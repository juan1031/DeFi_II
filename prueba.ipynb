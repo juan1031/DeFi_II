{
 "cells": [
  {
   "cell_type": "code",
   "execution_count": 40,
   "metadata": {},
   "outputs": [],
   "source": [
    "import pandas as pd\n",
    "\n",
    "año_emision='2024'\n",
    "año_vencimiento='2027'\n",
    "mes_dia_vencimiento='11-03'\n",
    "\n",
    "fechas_cupones = pd.date_range(\n",
    "        start=f'{año_emision}-{mes_dia_vencimiento}', \n",
    "        end=f'{año_vencimiento}-{mes_dia_vencimiento}', \n",
    "        inclusive='neither', freq='YS-JAN')\n"
   ]
  },
  {
   "cell_type": "code",
   "execution_count": 41,
   "metadata": {},
   "outputs": [
    {
     "data": {
      "text/plain": [
       "DatetimeIndex(['2025-01-01', '2026-01-01', '2027-01-01'], dtype='datetime64[ns]', freq='YS-JAN')"
      ]
     },
     "execution_count": 41,
     "metadata": {},
     "output_type": "execute_result"
    }
   ],
   "source": [
    "fechas_cupones"
   ]
  },
  {
   "cell_type": "code",
   "execution_count": 42,
   "metadata": {},
   "outputs": [
    {
     "data": {
      "text/plain": [
       "'2027-11-03'"
      ]
     },
     "execution_count": 42,
     "metadata": {},
     "output_type": "execute_result"
    }
   ],
   "source": [
    "f'{año_emision}-{mes_dia_vencimiento}'\n",
    "f'{año_vencimiento}-{mes_dia_vencimiento}'"
   ]
  },
  {
   "cell_type": "code",
   "execution_count": 43,
   "metadata": {},
   "outputs": [
    {
     "data": {
      "text/plain": [
       "['2024-11-03', '2025-11-03', '2026-11-03', '2027-11-03']"
      ]
     },
     "execution_count": 43,
     "metadata": {},
     "output_type": "execute_result"
    }
   ],
   "source": [
    "cupones = []\n",
    "for i in range(int(año_vencimiento)-int(año_emision)+1):\n",
    "    cupones.append(f'{int(año_emision)+i}-{mes_dia_vencimiento}')\n",
    "cupones"
   ]
  },
  {
   "cell_type": "code",
   "execution_count": 44,
   "metadata": {},
   "outputs": [
    {
     "data": {
      "text/plain": [
       "int"
      ]
     },
     "execution_count": 44,
     "metadata": {},
     "output_type": "execute_result"
    }
   ],
   "source": [
    "type(int('2025')-int('2024'))"
   ]
  },
  {
   "cell_type": "code",
   "execution_count": 45,
   "metadata": {},
   "outputs": [
    {
     "name": "stdout",
     "output_type": "stream",
     "text": [
      "Diferencia en días: 283\n"
     ]
    }
   ],
   "source": [
    "from datetime import datetime\n",
    "\n",
    "# Fechas en formato de cadena\n",
    "fecha_emision_str = '1/25/2024'\n",
    "fecha_vencimiento_str = '11/3/2024'\n",
    "\n",
    "# Convertir las cadenas a objetos datetime\n",
    "fecha_emision = datetime.strptime(fecha_emision_str, '%m/%d/%Y')\n",
    "fecha_vencimiento = datetime.strptime(fecha_vencimiento_str, '%m/%d/%Y')\n",
    "\n",
    "# Restar las fechas para obtener la diferencia en días\n",
    "diferencia_dias = (fecha_vencimiento - fecha_emision).days\n",
    "\n",
    "# Mostrar la diferencia en días\n",
    "print(f'Diferencia en días: {diferencia_dias}')\n"
   ]
  },
  {
   "cell_type": "code",
   "execution_count": 48,
   "metadata": {},
   "outputs": [
    {
     "data": {
      "text/plain": [
       "datetime.datetime(2024, 1, 25, 0, 0)"
      ]
     },
     "execution_count": 48,
     "metadata": {},
     "output_type": "execute_result"
    }
   ],
   "source": [
    "fecha_emision"
   ]
  },
  {
   "cell_type": "code",
   "execution_count": 46,
   "metadata": {},
   "outputs": [],
   "source": [
    "df_cupones = pd.DataFrame({'Pago_cupones': cupones})\n",
    "df_cupones['Pago_cupones'] = pd.to_datetime(\n",
    "        df_cupones['Pago_cupones'], format='%Y-%m-%d')"
   ]
  },
  {
   "cell_type": "code",
   "execution_count": 47,
   "metadata": {},
   "outputs": [
    {
     "data": {
      "text/html": [
       "<div>\n",
       "<style scoped>\n",
       "    .dataframe tbody tr th:only-of-type {\n",
       "        vertical-align: middle;\n",
       "    }\n",
       "\n",
       "    .dataframe tbody tr th {\n",
       "        vertical-align: top;\n",
       "    }\n",
       "\n",
       "    .dataframe thead th {\n",
       "        text-align: right;\n",
       "    }\n",
       "</style>\n",
       "<table border=\"1\" class=\"dataframe\">\n",
       "  <thead>\n",
       "    <tr style=\"text-align: right;\">\n",
       "      <th></th>\n",
       "      <th>Pago_cupones</th>\n",
       "    </tr>\n",
       "  </thead>\n",
       "  <tbody>\n",
       "    <tr>\n",
       "      <th>0</th>\n",
       "      <td>2024-11-03</td>\n",
       "    </tr>\n",
       "    <tr>\n",
       "      <th>1</th>\n",
       "      <td>2025-11-03</td>\n",
       "    </tr>\n",
       "    <tr>\n",
       "      <th>2</th>\n",
       "      <td>2026-11-03</td>\n",
       "    </tr>\n",
       "    <tr>\n",
       "      <th>3</th>\n",
       "      <td>2027-11-03</td>\n",
       "    </tr>\n",
       "  </tbody>\n",
       "</table>\n",
       "</div>"
      ],
      "text/plain": [
       "  Pago_cupones\n",
       "0   2024-11-03\n",
       "1   2025-11-03\n",
       "2   2026-11-03\n",
       "3   2027-11-03"
      ]
     },
     "execution_count": 47,
     "metadata": {},
     "output_type": "execute_result"
    }
   ],
   "source": [
    "df_cupones"
   ]
  }
 ],
 "metadata": {
  "kernelspec": {
   "display_name": "base",
   "language": "python",
   "name": "python3"
  },
  "language_info": {
   "codemirror_mode": {
    "name": "ipython",
    "version": 3
   },
   "file_extension": ".py",
   "mimetype": "text/x-python",
   "name": "python",
   "nbconvert_exporter": "python",
   "pygments_lexer": "ipython3",
   "version": "3.11.5"
  }
 },
 "nbformat": 4,
 "nbformat_minor": 2
}
